{
 "cells": [
  {
   "cell_type": "markdown",
   "metadata": {},
   "source": [
    "# Reading a datafeed file\n",
    "To start, let's read in a sample datafeed file:"
   ]
  },
  {
   "cell_type": "code",
   "execution_count": 4,
   "metadata": {},
   "outputs": [
    {
     "data": {
      "text/html": [
       "<table>\n",
       "<thead><tr><th scope=col>visitor_id_hi</th><th scope=col>visitor_id_lo</th><th scope=col>visit_num</th><th scope=col>hit_time_gmt</th><th scope=col>post_event_list</th><th scope=col>post_campaign</th><th scope=col>ip</th><th scope=col>user_id</th></tr></thead>\n",
       "<tbody>\n",
       "\t<tr><td>f73fe8ccf061718bf6de70f8ef6c1484</td><td>66360b670b0308e75eeeec6abeb15639</td><td>1                               </td><td>1517568611                      </td><td>20                              </td><td>campaign9                       </td><td>ip_address6351                  </td><td>NA                              </td></tr>\n",
       "\t<tr><td>0198f59332915116862c6a1889538be2</td><td>0e303f38500e9f0f384451334a9e6bc3</td><td>1                               </td><td>1517569668                      </td><td>NA                              </td><td>NA                              </td><td>ip_address6545                  </td><td>user_id3795                     </td></tr>\n",
       "\t<tr><td>457588336531e4208f3647e33fdb6028</td><td>a73fb9e74fee58fab7b64970aee739da</td><td>1                               </td><td>1517569678                      </td><td>20                              </td><td>campaign2233                    </td><td>ip_address5805                  </td><td>user_id1008                     </td></tr>\n",
       "\t<tr><td>af5a0bbfd451ed2802265198f58688b4</td><td>278413a6033d4cea84136e6e495b5cfc</td><td>1                               </td><td>1517569662                      </td><td>20                              </td><td>campaign2240                    </td><td>ip_address6535                  </td><td>NA                              </td></tr>\n",
       "\t<tr><td>af5a0bbfd451ed2802265198f58688b4</td><td>278413a6033d4cea84136e6e495b5cfc</td><td>1                               </td><td>1517569664                      </td><td>NA                              </td><td>campaign2240                    </td><td>ip_address6535                  </td><td>user_id2971                     </td></tr>\n",
       "\t<tr><td>9741b5a62c07dbb2e606f5284e971685</td><td>d602a1427f25bab96a4dc0a063586603</td><td>1                               </td><td>1517569666                      </td><td>2,20                            </td><td>campaign89                      </td><td>ip_address6535                  </td><td>NA                              </td></tr>\n",
       "</tbody>\n",
       "</table>\n"
      ],
      "text/latex": [
       "\\begin{tabular}{r|llllllll}\n",
       " visitor\\_id\\_hi & visitor\\_id\\_lo & visit\\_num & hit\\_time\\_gmt & post\\_event\\_list & post\\_campaign & ip & user\\_id\\\\\n",
       "\\hline\n",
       "\t f73fe8ccf061718bf6de70f8ef6c1484 & 66360b670b0308e75eeeec6abeb15639 & 1                                & 1517568611                       & 20                               & campaign9                        & ip\\_address6351                 & NA                              \\\\\n",
       "\t 0198f59332915116862c6a1889538be2 & 0e303f38500e9f0f384451334a9e6bc3 & 1                                & 1517569668                       & NA                               & NA                               & ip\\_address6545                 & user\\_id3795                   \\\\\n",
       "\t 457588336531e4208f3647e33fdb6028 & a73fb9e74fee58fab7b64970aee739da & 1                                & 1517569678                       & 20                               & campaign2233                     & ip\\_address5805                 & user\\_id1008                   \\\\\n",
       "\t af5a0bbfd451ed2802265198f58688b4 & 278413a6033d4cea84136e6e495b5cfc & 1                                & 1517569662                       & 20                               & campaign2240                     & ip\\_address6535                 & NA                              \\\\\n",
       "\t af5a0bbfd451ed2802265198f58688b4 & 278413a6033d4cea84136e6e495b5cfc & 1                                & 1517569664                       & NA                               & campaign2240                     & ip\\_address6535                 & user\\_id2971                   \\\\\n",
       "\t 9741b5a62c07dbb2e606f5284e971685 & d602a1427f25bab96a4dc0a063586603 & 1                                & 1517569666                       & 2,20                             & campaign89                       & ip\\_address6535                 & NA                              \\\\\n",
       "\\end{tabular}\n"
      ],
      "text/markdown": [
       "\n",
       "visitor_id_hi | visitor_id_lo | visit_num | hit_time_gmt | post_event_list | post_campaign | ip | user_id | \n",
       "|---|---|---|---|---|---|\n",
       "| f73fe8ccf061718bf6de70f8ef6c1484 | 66360b670b0308e75eeeec6abeb15639 | 1                                | 1517568611                       | 20                               | campaign9                        | ip_address6351                   | NA                               | \n",
       "| 0198f59332915116862c6a1889538be2 | 0e303f38500e9f0f384451334a9e6bc3 | 1                                | 1517569668                       | NA                               | NA                               | ip_address6545                   | user_id3795                      | \n",
       "| 457588336531e4208f3647e33fdb6028 | a73fb9e74fee58fab7b64970aee739da | 1                                | 1517569678                       | 20                               | campaign2233                     | ip_address5805                   | user_id1008                      | \n",
       "| af5a0bbfd451ed2802265198f58688b4 | 278413a6033d4cea84136e6e495b5cfc | 1                                | 1517569662                       | 20                               | campaign2240                     | ip_address6535                   | NA                               | \n",
       "| af5a0bbfd451ed2802265198f58688b4 | 278413a6033d4cea84136e6e495b5cfc | 1                                | 1517569664                       | NA                               | campaign2240                     | ip_address6535                   | user_id2971                      | \n",
       "| 9741b5a62c07dbb2e606f5284e971685 | d602a1427f25bab96a4dc0a063586603 | 1                                | 1517569666                       | 2,20                             | campaign89                       | ip_address6535                   | NA                               | \n",
       "\n",
       "\n"
      ],
      "text/plain": [
       "  visitor_id_hi                    visitor_id_lo                    visit_num\n",
       "1 f73fe8ccf061718bf6de70f8ef6c1484 66360b670b0308e75eeeec6abeb15639 1        \n",
       "2 0198f59332915116862c6a1889538be2 0e303f38500e9f0f384451334a9e6bc3 1        \n",
       "3 457588336531e4208f3647e33fdb6028 a73fb9e74fee58fab7b64970aee739da 1        \n",
       "4 af5a0bbfd451ed2802265198f58688b4 278413a6033d4cea84136e6e495b5cfc 1        \n",
       "5 af5a0bbfd451ed2802265198f58688b4 278413a6033d4cea84136e6e495b5cfc 1        \n",
       "6 9741b5a62c07dbb2e606f5284e971685 d602a1427f25bab96a4dc0a063586603 1        \n",
       "  hit_time_gmt post_event_list post_campaign ip             user_id    \n",
       "1 1517568611   20              campaign9     ip_address6351 NA         \n",
       "2 1517569668   NA              NA            ip_address6545 user_id3795\n",
       "3 1517569678   20              campaign2233  ip_address5805 user_id1008\n",
       "4 1517569662   20              campaign2240  ip_address6535 NA         \n",
       "5 1517569664   NA              campaign2240  ip_address6535 user_id2971\n",
       "6 1517569666   2,20            campaign89    ip_address6535 NA         "
      ]
     },
     "metadata": {},
     "output_type": "display_data"
    }
   ],
   "source": [
    "setwd(\"/Users/tpaulsen/Desktop/Product Management/Summit/2019/R/\")\n",
    "data_feed = read.table(file = \"example_datafeed.tab\", sep=\"\\t\", header = TRUE, na.strings = \"\", stringsAsFactors = FALSE)\n",
    "head(data_feed)"
   ]
  },
  {
   "cell_type": "markdown",
   "metadata": {},
   "source": [
    "# Reading a classification file\n",
    "Read in a sample classification file:"
   ]
  },
  {
   "cell_type": "code",
   "execution_count": 7,
   "metadata": {},
   "outputs": [
    {
     "data": {
      "text/html": [
       "<table>\n",
       "<thead><tr><th scope=col>post_campaign</th><th scope=col>channel</th></tr></thead>\n",
       "<tbody>\n",
       "\t<tr><td>campaign1</td><td>Email    </td></tr>\n",
       "\t<tr><td>campaign2</td><td>Email    </td></tr>\n",
       "\t<tr><td>campaign3</td><td>Email    </td></tr>\n",
       "\t<tr><td>campaign4</td><td>Email    </td></tr>\n",
       "\t<tr><td>campaign5</td><td>Email    </td></tr>\n",
       "\t<tr><td>campaign6</td><td>Email    </td></tr>\n",
       "</tbody>\n",
       "</table>\n"
      ],
      "text/latex": [
       "\\begin{tabular}{r|ll}\n",
       " post\\_campaign & channel\\\\\n",
       "\\hline\n",
       "\t campaign1 & Email    \\\\\n",
       "\t campaign2 & Email    \\\\\n",
       "\t campaign3 & Email    \\\\\n",
       "\t campaign4 & Email    \\\\\n",
       "\t campaign5 & Email    \\\\\n",
       "\t campaign6 & Email    \\\\\n",
       "\\end{tabular}\n"
      ],
      "text/markdown": [
       "\n",
       "post_campaign | channel | \n",
       "|---|---|---|---|---|---|\n",
       "| campaign1 | Email     | \n",
       "| campaign2 | Email     | \n",
       "| campaign3 | Email     | \n",
       "| campaign4 | Email     | \n",
       "| campaign5 | Email     | \n",
       "| campaign6 | Email     | \n",
       "\n",
       "\n"
      ],
      "text/plain": [
       "  post_campaign channel\n",
       "1 campaign1     Email  \n",
       "2 campaign2     Email  \n",
       "3 campaign3     Email  \n",
       "4 campaign4     Email  \n",
       "5 campaign5     Email  \n",
       "6 campaign6     Email  "
      ]
     },
     "metadata": {},
     "output_type": "display_data"
    }
   ],
   "source": [
    "classification = read.table(file=\"example_classification.tab\", sep=\"\\t\", header = TRUE, stringsAsFactors = FALSE)\n",
    "head(classification)"
   ]
  },
  {
   "cell_type": "markdown",
   "metadata": {},
   "source": [
    "# Dplyr basics\n",
    "Now let's talk about dplyr!\n",
    "Dplyr is a very popular R library that boils down complex data manipulation tasks into a series of verbs. It's kinda similar to SQL, but way easier to use and you can do a lot more with much less code.\n",
    "\n",
    "Go here for more examples and information: https://cran.r-project.org/web/packages/dplyr/vignettes/dplyr.html"
   ]
  },
  {
   "cell_type": "code",
   "execution_count": 8,
   "metadata": {},
   "outputs": [
    {
     "name": "stderr",
     "output_type": "stream",
     "text": [
      "\n",
      "Attaching package: ‘dplyr’\n",
      "\n",
      "The following objects are masked from ‘package:stats’:\n",
      "\n",
      "    filter, lag\n",
      "\n",
      "The following objects are masked from ‘package:base’:\n",
      "\n",
      "    intersect, setdiff, setequal, union\n",
      "\n"
     ]
    },
    {
     "data": {
      "text/html": [
       "<table>\n",
       "<thead><tr><th scope=col>visitor_id</th><th scope=col>rows</th><th scope=col>visits</th></tr></thead>\n",
       "<tbody>\n",
       "\t<tr><td>000063701a4af5d23b3c3b5e71638d22_6e2b54b479fb70ee940f8948b30a14ee</td><td> 4                                                               </td><td>1                                                                </td></tr>\n",
       "\t<tr><td>0003504c09f514587123f1ec5db3691a_97d1cc744fac1d7dcf82b5e165fe7650</td><td>99                                                               </td><td>3                                                                </td></tr>\n",
       "\t<tr><td>000a1d529ffdcefaccc2082d9e50caf2_06cea78ea3363b4eb5fe0057284142de</td><td> 1                                                               </td><td>1                                                                </td></tr>\n",
       "\t<tr><td>000f3c967b5896cafa65383fbed6ef2b_7c8dacd46bcd1a1155dcffd79dde3e10</td><td> 2                                                               </td><td>1                                                                </td></tr>\n",
       "\t<tr><td>00102093fba32a4e93164af8a5fa4782_38978c46a68b216ef7218a393e2e0719</td><td> 7                                                               </td><td>1                                                                </td></tr>\n",
       "\t<tr><td>0010fa00adc3668ff8149e0cc5b63df9_e19ffb3b9cf1ca3fc8eb7d32b28f5aec</td><td> 8                                                               </td><td>1                                                                </td></tr>\n",
       "</tbody>\n",
       "</table>\n"
      ],
      "text/latex": [
       "\\begin{tabular}{r|lll}\n",
       " visitor\\_id & rows & visits\\\\\n",
       "\\hline\n",
       "\t 000063701a4af5d23b3c3b5e71638d22\\_6e2b54b479fb70ee940f8948b30a14ee &  4                                                                  & 1                                                                  \\\\\n",
       "\t 0003504c09f514587123f1ec5db3691a\\_97d1cc744fac1d7dcf82b5e165fe7650 & 99                                                                  & 3                                                                  \\\\\n",
       "\t 000a1d529ffdcefaccc2082d9e50caf2\\_06cea78ea3363b4eb5fe0057284142de &  1                                                                  & 1                                                                  \\\\\n",
       "\t 000f3c967b5896cafa65383fbed6ef2b\\_7c8dacd46bcd1a1155dcffd79dde3e10 &  2                                                                  & 1                                                                  \\\\\n",
       "\t 00102093fba32a4e93164af8a5fa4782\\_38978c46a68b216ef7218a393e2e0719 &  7                                                                  & 1                                                                  \\\\\n",
       "\t 0010fa00adc3668ff8149e0cc5b63df9\\_e19ffb3b9cf1ca3fc8eb7d32b28f5aec &  8                                                                  & 1                                                                  \\\\\n",
       "\\end{tabular}\n"
      ],
      "text/markdown": [
       "\n",
       "visitor_id | rows | visits | \n",
       "|---|---|---|---|---|---|\n",
       "| 000063701a4af5d23b3c3b5e71638d22_6e2b54b479fb70ee940f8948b30a14ee |  4                                                                | 1                                                                 | \n",
       "| 0003504c09f514587123f1ec5db3691a_97d1cc744fac1d7dcf82b5e165fe7650 | 99                                                                | 3                                                                 | \n",
       "| 000a1d529ffdcefaccc2082d9e50caf2_06cea78ea3363b4eb5fe0057284142de |  1                                                                | 1                                                                 | \n",
       "| 000f3c967b5896cafa65383fbed6ef2b_7c8dacd46bcd1a1155dcffd79dde3e10 |  2                                                                | 1                                                                 | \n",
       "| 00102093fba32a4e93164af8a5fa4782_38978c46a68b216ef7218a393e2e0719 |  7                                                                | 1                                                                 | \n",
       "| 0010fa00adc3668ff8149e0cc5b63df9_e19ffb3b9cf1ca3fc8eb7d32b28f5aec |  8                                                                | 1                                                                 | \n",
       "\n",
       "\n"
      ],
      "text/plain": [
       "  visitor_id                                                        rows visits\n",
       "1 000063701a4af5d23b3c3b5e71638d22_6e2b54b479fb70ee940f8948b30a14ee  4   1     \n",
       "2 0003504c09f514587123f1ec5db3691a_97d1cc744fac1d7dcf82b5e165fe7650 99   3     \n",
       "3 000a1d529ffdcefaccc2082d9e50caf2_06cea78ea3363b4eb5fe0057284142de  1   1     \n",
       "4 000f3c967b5896cafa65383fbed6ef2b_7c8dacd46bcd1a1155dcffd79dde3e10  2   1     \n",
       "5 00102093fba32a4e93164af8a5fa4782_38978c46a68b216ef7218a393e2e0719  7   1     \n",
       "6 0010fa00adc3668ff8149e0cc5b63df9_e19ffb3b9cf1ca3fc8eb7d32b28f5aec  8   1     "
      ]
     },
     "metadata": {},
     "output_type": "display_data"
    }
   ],
   "source": [
    "# Install dplyr using install.packages(\"dplyr\")\n",
    "library(dplyr)\n",
    "\n",
    "# FILTER: filter the classification to just the Email campaigns\n",
    "email_campaigns = classification %>%\n",
    "  filter(channel == \"Email\")\n",
    "\n",
    "# ARRANGE: sort the datafeed by hit time gmt\n",
    "sorted_data_feed = data_feed %>%\n",
    "  arrange(hit_time_gmt)\n",
    "\n",
    "# SELECT: select only certain columns of a datafeed (like a SQL select) and rename them\n",
    "couple_columns_from_data_feed = data_feed %>%\n",
    "  select(\n",
    "    uuid = user_id,\n",
    "    timestamp = hit_time_gmt\n",
    "  )\n",
    "\n",
    "# MUTATE: create a new column using some calculation\n",
    "data_feed_with_modifications = data_feed %>%\n",
    "  mutate(\n",
    "    # concatenate visitor id hi and low\n",
    "    visitor_id = paste0(visitor_id_hi, \"_\", visitor_id_lo)\n",
    "  )\n",
    "\n",
    "# GROUP BY + SUMMARISE: perform operations on groupings of data\n",
    "visitor_level_aggregations = data_feed_with_modifications %>%\n",
    "  group_by(visitor_id) %>%\n",
    "  summarise(\n",
    "    rows = n(),\n",
    "    visits = n_distinct(visit_num)\n",
    "  )\n",
    "head(visitor_level_aggregations)"
   ]
  },
  {
   "cell_type": "markdown",
   "metadata": {},
   "source": [
    "# Connecting dplyr to an external database\n",
    "The best part about dplyr is that you can use it to interface with nearly any system that accepts SQL commands, not just on your local machine!\n",
    "\n",
    "This means using the same dplyr commands above, you can run the same operations at scale on databases like MySQL, MariaDB, Postgres interfaces (including Amazon Redshift), SQLite, odbc, or Google BigQuery. You can also interface with Adobe's Cloud Platform this way!\n",
    "\n",
    "To make it work, just install \"dbplyr\" (install.packages(\"dbplyr\") to install) in addition to dplyr above. See this link for more information: https://cran.r-project.org/web/packages/dbplyr/vignettes/dbplyr.html"
   ]
  },
  {
   "cell_type": "code",
   "execution_count": null,
   "metadata": {},
   "outputs": [],
   "source": [
    "# First, create a connection to your database of choice. Each database will have its own parameters to enter, but the first parameter is always the type of database\n",
    "\n",
    "# Typical example:\n",
    "con = DBI::dbConnect(RSQLite::SQLite(), \n",
    "  host = \"database.host.com\",\n",
    "  user = \"myuser\",\n",
    "  \n",
    "  # Putting your password in a string isn't safe! Rstudio gives this handy option:\n",
    "  password = rstudioapi::askForPassword(\"Database password\")\n",
    ")\n",
    "\n",
    "# Here's a bunch of options you can put as the first parameter:\n",
    "RSQLite::SQLite()\n",
    "RMySQL::MySQL()\n",
    "RPostgreSQL::PostgreSQL()\n",
    "odbc::odbc()\n",
    "bigrquery::bigquery()"
   ]
  },
  {
   "cell_type": "markdown",
   "metadata": {},
   "source": [
    "If you use an on premise setup, you can connect dplyr directly to a SparkSQL backend using a library called \"sparklyr\" which is also amazing. You can read all about that here: https://spark.rstudio.com/\n",
    "\n",
    "For the rest of this session, we'll just use a local file so that results can be easily reproduced, but I'll add comments to show you how you'd do things if connected to an external database.\n"
   ]
  }
 ],
 "metadata": {
  "kernelspec": {
   "display_name": "R",
   "language": "R",
   "name": "ir"
  },
  "language_info": {
   "codemirror_mode": "r",
   "file_extension": ".r",
   "mimetype": "text/x-r-source",
   "name": "R",
   "pygments_lexer": "r",
   "version": "3.5.1"
  }
 },
 "nbformat": 4,
 "nbformat_minor": 2
}
