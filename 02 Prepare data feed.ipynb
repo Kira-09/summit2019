{
 "cells": [
  {
   "cell_type": "markdown",
   "metadata": {},
   "source": [
    "# Using dplyr with Adobe Analytics Data Feeds\n",
    "So, after you've connected R to your query engine of choice, it's time to prepare your data feed for analysis. The below example shows how to connect to Adobe Cloud Platform Query Service which uses PostgreSQL, but you can use whatever it is that you need."
   ]
  },
  {
   "cell_type": "code",
   "execution_count": null,
   "metadata": {},
   "outputs": [],
   "source": [
    "require(\"RPostgreSQL\")\n",
    "library(dplyr)\n",
    "library(dbplyr)\n",
    "\n",
    "drv = dbDriver(\"PostgreSQL\")\n",
    "host = \"my.database.host\"\n",
    "port = 80\n",
    "usr = \"myUserCredentials\"\n",
    "pw = rstudioapi::askForPassword(\"Password:\")\n",
    "con = dbConnect(\n",
    "  drv, \n",
    "  dbname = \"dbname=all sslmode=require\", \n",
    "  host = host, \n",
    "  port = port, \n",
    "  user = usr, \n",
    "  password = pw\n",
    ")\n",
    "\n",
    "# Once authenticated, create a variable pointing to a db table:\n",
    "my_data = tbl(con, \"my_data_feed_table\")"
   ]
  },
  {
   "cell_type": "markdown",
   "metadata": {},
   "source": [
    "# Prepping a data feed for easier use\n",
    "Once I'm logged in and connected to a table, I'm ready to start manipulating my data feed for analysis. The rest of the examples will use the sample data feed I've supplied so that you can easily reproduce what I've done on your local machine (or you can load the sample into your own query engine of choice).\n",
    "\n",
    "First, we're going to do a bit of data clean up (this step is already done in the sample dataset). If you're doing this yourself, be sure to look at the column_headers file that comes with the datafeed to know which columns are what - you'll likely need to use the column names \"V1\", \"V2\" etc and rename them using a select verb."
   ]
  },
  {
   "cell_type": "code",
   "execution_count": 6,
   "metadata": {},
   "outputs": [
    {
     "data": {
      "text/html": [
       "<table>\n",
       "<thead><tr><th scope=col>visitor_id</th><th scope=col>visit_num</th><th scope=col>hit_time_gmt</th><th scope=col>event_list</th><th scope=col>post_campaign</th><th scope=col>orders</th><th scope=col>ip</th><th scope=col>user_id</th></tr></thead>\n",
       "<tbody>\n",
       "\t<tr><td>f73fe8ccf061718bf6de70f8ef6c1484_66360b670b0308e75eeeec6abeb15639</td><td>1                                                                </td><td>1517568611                                                       </td><td>,20,                                                             </td><td>campaign9                                                        </td><td>0                                                                </td><td>ip_address6351                                                   </td><td>NA                                                               </td></tr>\n",
       "\t<tr><td>0198f59332915116862c6a1889538be2_0e303f38500e9f0f384451334a9e6bc3</td><td>1                                                                </td><td>1517569668                                                       </td><td>NA                                                               </td><td>NA                                                               </td><td>0                                                                </td><td>ip_address6545                                                   </td><td>user_id3795                                                      </td></tr>\n",
       "\t<tr><td>457588336531e4208f3647e33fdb6028_a73fb9e74fee58fab7b64970aee739da</td><td>1                                                                </td><td>1517569678                                                       </td><td>,20,                                                             </td><td>campaign2233                                                     </td><td>0                                                                </td><td>ip_address5805                                                   </td><td>user_id1008                                                      </td></tr>\n",
       "\t<tr><td>af5a0bbfd451ed2802265198f58688b4_278413a6033d4cea84136e6e495b5cfc</td><td>1                                                                </td><td>1517569662                                                       </td><td>,20,                                                             </td><td>campaign2240                                                     </td><td>0                                                                </td><td>ip_address6535                                                   </td><td>NA                                                               </td></tr>\n",
       "\t<tr><td>af5a0bbfd451ed2802265198f58688b4_278413a6033d4cea84136e6e495b5cfc</td><td>1                                                                </td><td>1517569664                                                       </td><td>NA                                                               </td><td>campaign2240                                                     </td><td>0                                                                </td><td>ip_address6535                                                   </td><td>user_id2971                                                      </td></tr>\n",
       "\t<tr><td>9741b5a62c07dbb2e606f5284e971685_d602a1427f25bab96a4dc0a063586603</td><td>1                                                                </td><td>1517569666                                                       </td><td>,2,20,                                                           </td><td>campaign89                                                       </td><td>0                                                                </td><td>ip_address6535                                                   </td><td>NA                                                               </td></tr>\n",
       "</tbody>\n",
       "</table>\n"
      ],
      "text/latex": [
       "\\begin{tabular}{r|llllllll}\n",
       " visitor\\_id & visit\\_num & hit\\_time\\_gmt & event\\_list & post\\_campaign & orders & ip & user\\_id\\\\\n",
       "\\hline\n",
       "\t f73fe8ccf061718bf6de70f8ef6c1484\\_66360b670b0308e75eeeec6abeb15639 & 1                                                                   & 1517568611                                                          & ,20,                                                                & campaign9                                                           & 0                                                                   & ip\\_address6351                                                    & NA                                                                 \\\\\n",
       "\t 0198f59332915116862c6a1889538be2\\_0e303f38500e9f0f384451334a9e6bc3 & 1                                                                   & 1517569668                                                          & NA                                                                  & NA                                                                  & 0                                                                   & ip\\_address6545                                                    & user\\_id3795                                                      \\\\\n",
       "\t 457588336531e4208f3647e33fdb6028\\_a73fb9e74fee58fab7b64970aee739da & 1                                                                   & 1517569678                                                          & ,20,                                                                & campaign2233                                                        & 0                                                                   & ip\\_address5805                                                    & user\\_id1008                                                      \\\\\n",
       "\t af5a0bbfd451ed2802265198f58688b4\\_278413a6033d4cea84136e6e495b5cfc & 1                                                                   & 1517569662                                                          & ,20,                                                                & campaign2240                                                        & 0                                                                   & ip\\_address6535                                                    & NA                                                                 \\\\\n",
       "\t af5a0bbfd451ed2802265198f58688b4\\_278413a6033d4cea84136e6e495b5cfc & 1                                                                   & 1517569664                                                          & NA                                                                  & campaign2240                                                        & 0                                                                   & ip\\_address6535                                                    & user\\_id2971                                                      \\\\\n",
       "\t 9741b5a62c07dbb2e606f5284e971685\\_d602a1427f25bab96a4dc0a063586603 & 1                                                                   & 1517569666                                                          & ,2,20,                                                              & campaign89                                                          & 0                                                                   & ip\\_address6535                                                    & NA                                                                 \\\\\n",
       "\\end{tabular}\n"
      ],
      "text/markdown": [
       "\n",
       "visitor_id | visit_num | hit_time_gmt | event_list | post_campaign | orders | ip | user_id | \n",
       "|---|---|---|---|---|---|\n",
       "| f73fe8ccf061718bf6de70f8ef6c1484_66360b670b0308e75eeeec6abeb15639 | 1                                                                 | 1517568611                                                        | ,20,                                                              | campaign9                                                         | 0                                                                 | ip_address6351                                                    | NA                                                                | \n",
       "| 0198f59332915116862c6a1889538be2_0e303f38500e9f0f384451334a9e6bc3 | 1                                                                 | 1517569668                                                        | NA                                                                | NA                                                                | 0                                                                 | ip_address6545                                                    | user_id3795                                                       | \n",
       "| 457588336531e4208f3647e33fdb6028_a73fb9e74fee58fab7b64970aee739da | 1                                                                 | 1517569678                                                        | ,20,                                                              | campaign2233                                                      | 0                                                                 | ip_address5805                                                    | user_id1008                                                       | \n",
       "| af5a0bbfd451ed2802265198f58688b4_278413a6033d4cea84136e6e495b5cfc | 1                                                                 | 1517569662                                                        | ,20,                                                              | campaign2240                                                      | 0                                                                 | ip_address6535                                                    | NA                                                                | \n",
       "| af5a0bbfd451ed2802265198f58688b4_278413a6033d4cea84136e6e495b5cfc | 1                                                                 | 1517569664                                                        | NA                                                                | campaign2240                                                      | 0                                                                 | ip_address6535                                                    | user_id2971                                                       | \n",
       "| 9741b5a62c07dbb2e606f5284e971685_d602a1427f25bab96a4dc0a063586603 | 1                                                                 | 1517569666                                                        | ,2,20,                                                            | campaign89                                                        | 0                                                                 | ip_address6535                                                    | NA                                                                | \n",
       "\n",
       "\n"
      ],
      "text/plain": [
       "  visitor_id                                                        visit_num\n",
       "1 f73fe8ccf061718bf6de70f8ef6c1484_66360b670b0308e75eeeec6abeb15639 1        \n",
       "2 0198f59332915116862c6a1889538be2_0e303f38500e9f0f384451334a9e6bc3 1        \n",
       "3 457588336531e4208f3647e33fdb6028_a73fb9e74fee58fab7b64970aee739da 1        \n",
       "4 af5a0bbfd451ed2802265198f58688b4_278413a6033d4cea84136e6e495b5cfc 1        \n",
       "5 af5a0bbfd451ed2802265198f58688b4_278413a6033d4cea84136e6e495b5cfc 1        \n",
       "6 9741b5a62c07dbb2e606f5284e971685_d602a1427f25bab96a4dc0a063586603 1        \n",
       "  hit_time_gmt event_list post_campaign orders ip             user_id    \n",
       "1 1517568611   ,20,       campaign9     0      ip_address6351 NA         \n",
       "2 1517569668   NA         NA            0      ip_address6545 user_id3795\n",
       "3 1517569678   ,20,       campaign2233  0      ip_address5805 user_id1008\n",
       "4 1517569662   ,20,       campaign2240  0      ip_address6535 NA         \n",
       "5 1517569664   NA         campaign2240  0      ip_address6535 user_id2971\n",
       "6 1517569666   ,2,20,     campaign89    0      ip_address6535 NA         "
      ]
     },
     "metadata": {},
     "output_type": "display_data"
    }
   ],
   "source": [
    "data_feed_transformed = data_feed %>%\n",
    "  mutate(\n",
    "    # create a usable id from visid hi and lo:\n",
    "    merged_visitor_ids = paste0(visitor_id_hi,\"_\",visitor_id_lo),\n",
    "    \n",
    "    # add a leading and trailing comma to the \n",
    "    # event list to make searching easier:\n",
    "    fixed_event_list = ifelse(post_event_list == \"\", \"\", paste0(\",\",post_event_list,\",\")),\n",
    "    \n",
    "    # create a column for conversions - \"1\" in the event list\n",
    "    orders = ifelse(grepl(\",1,\", fixed_event_list), 1, 0)\n",
    "    \n",
    "    # If using Adobe Query Service or Spark SQL, you'd do it like:\n",
    "    # orders = ifelse(fixed_event_list %~% \",1,\", 1, NA)\n",
    "    \n",
    "  ) %>%\n",
    "  select(\n",
    "    \n",
    "    # datafeeds don't have column headers so refer to\n",
    "    # the column headers file that comes with the \n",
    "    # data feed lookups to get this right\n",
    "    \n",
    "    visitor_id = merged_visitor_ids,\n",
    "    visit_num,\n",
    "    hit_time_gmt,\n",
    "    event_list = fixed_event_list,\n",
    "    post_campaign,\n",
    "    orders,\n",
    "    ip,\n",
    "    user_id\n",
    "    \n",
    "  ) %>%\n",
    "  mutate(\n",
    "    # handy manipulation if your user id contains email addresses:\n",
    "    # refer to your specific query engine documentation around\n",
    "    # regex support\n",
    "    \n",
    "    # How to do this in Postgres\n",
    "    # user_id = tolower(regexp_replace(user_id, \"\\\\\\\\.\", \"\"))\n",
    "  )\n",
    "\n",
    "# Notice that dbplyr doesn't actually execute the query until it needs to. The above code never touches your database until you run either \"collect()\" which returns the rows from the query, or perform another operation that requires the query to actually run like the \"head()\" below:\n",
    "\n",
    "head(data_feed_transformed)"
   ]
  },
  {
   "cell_type": "markdown",
   "metadata": {},
   "source": [
    "# Adding classifications\n",
    "Next let's apply a classification to the datafeed. In this case I'll classify the post_campaign to their marketing channel. In this example, we'll just use the classification file I supplied with the session materials - in your environment, you'll want to use a separate table you've uploaded."
   ]
  },
  {
   "cell_type": "code",
   "execution_count": 9,
   "metadata": {},
   "outputs": [
    {
     "data": {
      "text/html": [
       "<table>\n",
       "<thead><tr><th scope=col>visitor_id</th><th scope=col>visit_num</th><th scope=col>hit_time_gmt</th><th scope=col>event_list</th><th scope=col>post_campaign</th><th scope=col>orders</th><th scope=col>ip</th><th scope=col>user_id</th><th scope=col>channel</th></tr></thead>\n",
       "<tbody>\n",
       "\t<tr><td>f73fe8ccf061718bf6de70f8ef6c1484_66360b670b0308e75eeeec6abeb15639</td><td>1                                                                </td><td>1517568611                                                       </td><td>,20,                                                             </td><td>campaign9                                                        </td><td>0                                                                </td><td>ip_address6351                                                   </td><td>NA                                                               </td><td>Affiliates                                                       </td></tr>\n",
       "\t<tr><td>0198f59332915116862c6a1889538be2_0e303f38500e9f0f384451334a9e6bc3</td><td>1                                                                </td><td>1517569668                                                       </td><td>NA                                                               </td><td>NA                                                               </td><td>0                                                                </td><td>ip_address6545                                                   </td><td>user_id3795                                                      </td><td>NA                                                               </td></tr>\n",
       "\t<tr><td>457588336531e4208f3647e33fdb6028_a73fb9e74fee58fab7b64970aee739da</td><td>1                                                                </td><td>1517569678                                                       </td><td>,20,                                                             </td><td>campaign2233                                                     </td><td>0                                                                </td><td>ip_address5805                                                   </td><td>user_id1008                                                      </td><td>Other Referrals                                                  </td></tr>\n",
       "\t<tr><td>af5a0bbfd451ed2802265198f58688b4_278413a6033d4cea84136e6e495b5cfc</td><td>1                                                                </td><td>1517569662                                                       </td><td>,20,                                                             </td><td>campaign2240                                                     </td><td>0                                                                </td><td>ip_address6535                                                   </td><td>NA                                                               </td><td>Other Referrals                                                  </td></tr>\n",
       "\t<tr><td>af5a0bbfd451ed2802265198f58688b4_278413a6033d4cea84136e6e495b5cfc</td><td>1                                                                </td><td>1517569664                                                       </td><td>NA                                                               </td><td>campaign2240                                                     </td><td>0                                                                </td><td>ip_address6535                                                   </td><td>user_id2971                                                      </td><td>Other Referrals                                                  </td></tr>\n",
       "\t<tr><td>9741b5a62c07dbb2e606f5284e971685_d602a1427f25bab96a4dc0a063586603</td><td>1                                                                </td><td>1517569666                                                       </td><td>,2,20,                                                           </td><td>campaign89                                                       </td><td>0                                                                </td><td>ip_address6535                                                   </td><td>NA                                                               </td><td>Other Referrals                                                  </td></tr>\n",
       "</tbody>\n",
       "</table>\n"
      ],
      "text/latex": [
       "\\begin{tabular}{r|lllllllll}\n",
       " visitor\\_id & visit\\_num & hit\\_time\\_gmt & event\\_list & post\\_campaign & orders & ip & user\\_id & channel\\\\\n",
       "\\hline\n",
       "\t f73fe8ccf061718bf6de70f8ef6c1484\\_66360b670b0308e75eeeec6abeb15639 & 1                                                                   & 1517568611                                                          & ,20,                                                                & campaign9                                                           & 0                                                                   & ip\\_address6351                                                    & NA                                                                  & Affiliates                                                         \\\\\n",
       "\t 0198f59332915116862c6a1889538be2\\_0e303f38500e9f0f384451334a9e6bc3 & 1                                                                   & 1517569668                                                          & NA                                                                  & NA                                                                  & 0                                                                   & ip\\_address6545                                                    & user\\_id3795                                                       & NA                                                                 \\\\\n",
       "\t 457588336531e4208f3647e33fdb6028\\_a73fb9e74fee58fab7b64970aee739da & 1                                                                   & 1517569678                                                          & ,20,                                                                & campaign2233                                                        & 0                                                                   & ip\\_address5805                                                    & user\\_id1008                                                       & Other Referrals                                                    \\\\\n",
       "\t af5a0bbfd451ed2802265198f58688b4\\_278413a6033d4cea84136e6e495b5cfc & 1                                                                   & 1517569662                                                          & ,20,                                                                & campaign2240                                                        & 0                                                                   & ip\\_address6535                                                    & NA                                                                  & Other Referrals                                                    \\\\\n",
       "\t af5a0bbfd451ed2802265198f58688b4\\_278413a6033d4cea84136e6e495b5cfc & 1                                                                   & 1517569664                                                          & NA                                                                  & campaign2240                                                        & 0                                                                   & ip\\_address6535                                                    & user\\_id2971                                                       & Other Referrals                                                    \\\\\n",
       "\t 9741b5a62c07dbb2e606f5284e971685\\_d602a1427f25bab96a4dc0a063586603 & 1                                                                   & 1517569666                                                          & ,2,20,                                                              & campaign89                                                          & 0                                                                   & ip\\_address6535                                                    & NA                                                                  & Other Referrals                                                    \\\\\n",
       "\\end{tabular}\n"
      ],
      "text/markdown": [
       "\n",
       "visitor_id | visit_num | hit_time_gmt | event_list | post_campaign | orders | ip | user_id | channel | \n",
       "|---|---|---|---|---|---|\n",
       "| f73fe8ccf061718bf6de70f8ef6c1484_66360b670b0308e75eeeec6abeb15639 | 1                                                                 | 1517568611                                                        | ,20,                                                              | campaign9                                                         | 0                                                                 | ip_address6351                                                    | NA                                                                | Affiliates                                                        | \n",
       "| 0198f59332915116862c6a1889538be2_0e303f38500e9f0f384451334a9e6bc3 | 1                                                                 | 1517569668                                                        | NA                                                                | NA                                                                | 0                                                                 | ip_address6545                                                    | user_id3795                                                       | NA                                                                | \n",
       "| 457588336531e4208f3647e33fdb6028_a73fb9e74fee58fab7b64970aee739da | 1                                                                 | 1517569678                                                        | ,20,                                                              | campaign2233                                                      | 0                                                                 | ip_address5805                                                    | user_id1008                                                       | Other Referrals                                                   | \n",
       "| af5a0bbfd451ed2802265198f58688b4_278413a6033d4cea84136e6e495b5cfc | 1                                                                 | 1517569662                                                        | ,20,                                                              | campaign2240                                                      | 0                                                                 | ip_address6535                                                    | NA                                                                | Other Referrals                                                   | \n",
       "| af5a0bbfd451ed2802265198f58688b4_278413a6033d4cea84136e6e495b5cfc | 1                                                                 | 1517569664                                                        | NA                                                                | campaign2240                                                      | 0                                                                 | ip_address6535                                                    | user_id2971                                                       | Other Referrals                                                   | \n",
       "| 9741b5a62c07dbb2e606f5284e971685_d602a1427f25bab96a4dc0a063586603 | 1                                                                 | 1517569666                                                        | ,2,20,                                                            | campaign89                                                        | 0                                                                 | ip_address6535                                                    | NA                                                                | Other Referrals                                                   | \n",
       "\n",
       "\n"
      ],
      "text/plain": [
       "  visitor_id                                                        visit_num\n",
       "1 f73fe8ccf061718bf6de70f8ef6c1484_66360b670b0308e75eeeec6abeb15639 1        \n",
       "2 0198f59332915116862c6a1889538be2_0e303f38500e9f0f384451334a9e6bc3 1        \n",
       "3 457588336531e4208f3647e33fdb6028_a73fb9e74fee58fab7b64970aee739da 1        \n",
       "4 af5a0bbfd451ed2802265198f58688b4_278413a6033d4cea84136e6e495b5cfc 1        \n",
       "5 af5a0bbfd451ed2802265198f58688b4_278413a6033d4cea84136e6e495b5cfc 1        \n",
       "6 9741b5a62c07dbb2e606f5284e971685_d602a1427f25bab96a4dc0a063586603 1        \n",
       "  hit_time_gmt event_list post_campaign orders ip             user_id    \n",
       "1 1517568611   ,20,       campaign9     0      ip_address6351 NA         \n",
       "2 1517569668   NA         NA            0      ip_address6545 user_id3795\n",
       "3 1517569678   ,20,       campaign2233  0      ip_address5805 user_id1008\n",
       "4 1517569662   ,20,       campaign2240  0      ip_address6535 NA         \n",
       "5 1517569664   NA         campaign2240  0      ip_address6535 user_id2971\n",
       "6 1517569666   ,2,20,     campaign89    0      ip_address6535 NA         \n",
       "  channel        \n",
       "1 Affiliates     \n",
       "2 NA             \n",
       "3 Other Referrals\n",
       "4 Other Referrals\n",
       "5 Other Referrals\n",
       "6 Other Referrals"
      ]
     },
     "metadata": {},
     "output_type": "display_data"
    }
   ],
   "source": [
    "classification = read.table(file=\"example_classification.tab\", sep=\"\\t\", header = TRUE, stringsAsFactors = FALSE)\n",
    "data_feed_with_class = data_feed_transformed %>%\n",
    "  left_join(classification, by=c(\"post_campaign\"))\n",
    "\n",
    "head(data_feed_with_class)"
   ]
  },
  {
   "cell_type": "markdown",
   "metadata": {},
   "source": [
    "# De-attributing the data feed\n",
    "Last, for attribution that we're going to do later, we need to \"de-last-touch-ify\" the data feed for the channels column. If you're using the \"post\" columns from the data feed, chances are you are looking at the last touch version of that channel written in to the data (we persist values from row to row as we collect the data). To undo that, we'll need to inspect the \"campaign instance\" event (the number \"20\") in the event list, and only keep the channel values on rows with that instance event."
   ]
  },
  {
   "cell_type": "code",
   "execution_count": 10,
   "metadata": {},
   "outputs": [
    {
     "data": {
      "text/html": [
       "<table>\n",
       "<thead><tr><th scope=col>visitor_id</th><th scope=col>visit_num</th><th scope=col>hit_time_gmt</th><th scope=col>event_list</th><th scope=col>post_campaign</th><th scope=col>orders</th><th scope=col>ip</th><th scope=col>user_id</th><th scope=col>channel</th><th scope=col>non_attributed_channel</th></tr></thead>\n",
       "<tbody>\n",
       "\t<tr><td>f73fe8ccf061718bf6de70f8ef6c1484_66360b670b0308e75eeeec6abeb15639</td><td>1                                                                </td><td>1517568611                                                       </td><td>,20,                                                             </td><td>campaign9                                                        </td><td>0                                                                </td><td>ip_address6351                                                   </td><td>NA                                                               </td><td>Affiliates                                                       </td><td>Affiliates                                                       </td></tr>\n",
       "\t<tr><td>0198f59332915116862c6a1889538be2_0e303f38500e9f0f384451334a9e6bc3</td><td>1                                                                </td><td>1517569668                                                       </td><td>NA                                                               </td><td>NA                                                               </td><td>0                                                                </td><td>ip_address6545                                                   </td><td>user_id3795                                                      </td><td>NA                                                               </td><td>NA                                                               </td></tr>\n",
       "\t<tr><td>457588336531e4208f3647e33fdb6028_a73fb9e74fee58fab7b64970aee739da</td><td>1                                                                </td><td>1517569678                                                       </td><td>,20,                                                             </td><td>campaign2233                                                     </td><td>0                                                                </td><td>ip_address5805                                                   </td><td>user_id1008                                                      </td><td>Other Referrals                                                  </td><td>Other Referrals                                                  </td></tr>\n",
       "\t<tr><td>af5a0bbfd451ed2802265198f58688b4_278413a6033d4cea84136e6e495b5cfc</td><td>1                                                                </td><td>1517569662                                                       </td><td>,20,                                                             </td><td>campaign2240                                                     </td><td>0                                                                </td><td>ip_address6535                                                   </td><td>NA                                                               </td><td>Other Referrals                                                  </td><td>Other Referrals                                                  </td></tr>\n",
       "\t<tr><td>af5a0bbfd451ed2802265198f58688b4_278413a6033d4cea84136e6e495b5cfc</td><td>1                                                                </td><td>1517569664                                                       </td><td>NA                                                               </td><td>campaign2240                                                     </td><td>0                                                                </td><td>ip_address6535                                                   </td><td>user_id2971                                                      </td><td>Other Referrals                                                  </td><td>NA                                                               </td></tr>\n",
       "\t<tr><td>9741b5a62c07dbb2e606f5284e971685_d602a1427f25bab96a4dc0a063586603</td><td>1                                                                </td><td>1517569666                                                       </td><td>,2,20,                                                           </td><td>campaign89                                                       </td><td>0                                                                </td><td>ip_address6535                                                   </td><td>NA                                                               </td><td>Other Referrals                                                  </td><td>Other Referrals                                                  </td></tr>\n",
       "</tbody>\n",
       "</table>\n"
      ],
      "text/latex": [
       "\\begin{tabular}{r|llllllllll}\n",
       " visitor\\_id & visit\\_num & hit\\_time\\_gmt & event\\_list & post\\_campaign & orders & ip & user\\_id & channel & non\\_attributed\\_channel\\\\\n",
       "\\hline\n",
       "\t f73fe8ccf061718bf6de70f8ef6c1484\\_66360b670b0308e75eeeec6abeb15639 & 1                                                                   & 1517568611                                                          & ,20,                                                                & campaign9                                                           & 0                                                                   & ip\\_address6351                                                    & NA                                                                  & Affiliates                                                          & Affiliates                                                         \\\\\n",
       "\t 0198f59332915116862c6a1889538be2\\_0e303f38500e9f0f384451334a9e6bc3 & 1                                                                   & 1517569668                                                          & NA                                                                  & NA                                                                  & 0                                                                   & ip\\_address6545                                                    & user\\_id3795                                                       & NA                                                                  & NA                                                                 \\\\\n",
       "\t 457588336531e4208f3647e33fdb6028\\_a73fb9e74fee58fab7b64970aee739da & 1                                                                   & 1517569678                                                          & ,20,                                                                & campaign2233                                                        & 0                                                                   & ip\\_address5805                                                    & user\\_id1008                                                       & Other Referrals                                                     & Other Referrals                                                    \\\\\n",
       "\t af5a0bbfd451ed2802265198f58688b4\\_278413a6033d4cea84136e6e495b5cfc & 1                                                                   & 1517569662                                                          & ,20,                                                                & campaign2240                                                        & 0                                                                   & ip\\_address6535                                                    & NA                                                                  & Other Referrals                                                     & Other Referrals                                                    \\\\\n",
       "\t af5a0bbfd451ed2802265198f58688b4\\_278413a6033d4cea84136e6e495b5cfc & 1                                                                   & 1517569664                                                          & NA                                                                  & campaign2240                                                        & 0                                                                   & ip\\_address6535                                                    & user\\_id2971                                                       & Other Referrals                                                     & NA                                                                 \\\\\n",
       "\t 9741b5a62c07dbb2e606f5284e971685\\_d602a1427f25bab96a4dc0a063586603 & 1                                                                   & 1517569666                                                          & ,2,20,                                                              & campaign89                                                          & 0                                                                   & ip\\_address6535                                                    & NA                                                                  & Other Referrals                                                     & Other Referrals                                                    \\\\\n",
       "\\end{tabular}\n"
      ],
      "text/markdown": [
       "\n",
       "visitor_id | visit_num | hit_time_gmt | event_list | post_campaign | orders | ip | user_id | channel | non_attributed_channel | \n",
       "|---|---|---|---|---|---|\n",
       "| f73fe8ccf061718bf6de70f8ef6c1484_66360b670b0308e75eeeec6abeb15639 | 1                                                                 | 1517568611                                                        | ,20,                                                              | campaign9                                                         | 0                                                                 | ip_address6351                                                    | NA                                                                | Affiliates                                                        | Affiliates                                                        | \n",
       "| 0198f59332915116862c6a1889538be2_0e303f38500e9f0f384451334a9e6bc3 | 1                                                                 | 1517569668                                                        | NA                                                                | NA                                                                | 0                                                                 | ip_address6545                                                    | user_id3795                                                       | NA                                                                | NA                                                                | \n",
       "| 457588336531e4208f3647e33fdb6028_a73fb9e74fee58fab7b64970aee739da | 1                                                                 | 1517569678                                                        | ,20,                                                              | campaign2233                                                      | 0                                                                 | ip_address5805                                                    | user_id1008                                                       | Other Referrals                                                   | Other Referrals                                                   | \n",
       "| af5a0bbfd451ed2802265198f58688b4_278413a6033d4cea84136e6e495b5cfc | 1                                                                 | 1517569662                                                        | ,20,                                                              | campaign2240                                                      | 0                                                                 | ip_address6535                                                    | NA                                                                | Other Referrals                                                   | Other Referrals                                                   | \n",
       "| af5a0bbfd451ed2802265198f58688b4_278413a6033d4cea84136e6e495b5cfc | 1                                                                 | 1517569664                                                        | NA                                                                | campaign2240                                                      | 0                                                                 | ip_address6535                                                    | user_id2971                                                       | Other Referrals                                                   | NA                                                                | \n",
       "| 9741b5a62c07dbb2e606f5284e971685_d602a1427f25bab96a4dc0a063586603 | 1                                                                 | 1517569666                                                        | ,2,20,                                                            | campaign89                                                        | 0                                                                 | ip_address6535                                                    | NA                                                                | Other Referrals                                                   | Other Referrals                                                   | \n",
       "\n",
       "\n"
      ],
      "text/plain": [
       "  visitor_id                                                        visit_num\n",
       "1 f73fe8ccf061718bf6de70f8ef6c1484_66360b670b0308e75eeeec6abeb15639 1        \n",
       "2 0198f59332915116862c6a1889538be2_0e303f38500e9f0f384451334a9e6bc3 1        \n",
       "3 457588336531e4208f3647e33fdb6028_a73fb9e74fee58fab7b64970aee739da 1        \n",
       "4 af5a0bbfd451ed2802265198f58688b4_278413a6033d4cea84136e6e495b5cfc 1        \n",
       "5 af5a0bbfd451ed2802265198f58688b4_278413a6033d4cea84136e6e495b5cfc 1        \n",
       "6 9741b5a62c07dbb2e606f5284e971685_d602a1427f25bab96a4dc0a063586603 1        \n",
       "  hit_time_gmt event_list post_campaign orders ip             user_id    \n",
       "1 1517568611   ,20,       campaign9     0      ip_address6351 NA         \n",
       "2 1517569668   NA         NA            0      ip_address6545 user_id3795\n",
       "3 1517569678   ,20,       campaign2233  0      ip_address5805 user_id1008\n",
       "4 1517569662   ,20,       campaign2240  0      ip_address6535 NA         \n",
       "5 1517569664   NA         campaign2240  0      ip_address6535 user_id2971\n",
       "6 1517569666   ,2,20,     campaign89    0      ip_address6535 NA         \n",
       "  channel         non_attributed_channel\n",
       "1 Affiliates      Affiliates            \n",
       "2 NA              NA                    \n",
       "3 Other Referrals Other Referrals       \n",
       "4 Other Referrals Other Referrals       \n",
       "5 Other Referrals NA                    \n",
       "6 Other Referrals Other Referrals       "
      ]
     },
     "metadata": {},
     "output_type": "display_data"
    }
   ],
   "source": [
    "data_feed_ready = data_feed_with_class %>%\n",
    "  mutate(\n",
    "    # Running locally on your laptop, use:\n",
    "    non_attributed_channel = ifelse(grepl(\",20,\", event_list), channel, NA)\n",
    "      \n",
    "    # If using PostgreSQL, you'd do it like:\n",
    "    #non_attributed_channel = ifelse(post_event_list ~ \",20,\", channel, NA)\n",
    "    \n",
    "    # Or if using Spark SQL via sparklyr\n",
    "    #non_attributed_channel = ifelse(post_event_list %regexp% \",20,\", channel, NA)\n",
    "  )\n",
    "\n",
    "head(data_feed_ready)"
   ]
  },
  {
   "cell_type": "markdown",
   "metadata": {},
   "source": [
    "Awesome, now we're ready to go! Next up, creating a cross-device ID for analysis."
   ]
  }
 ],
 "metadata": {
  "kernelspec": {
   "display_name": "R",
   "language": "R",
   "name": "ir"
  },
  "language_info": {
   "codemirror_mode": "r",
   "file_extension": ".r",
   "mimetype": "text/x-r-source",
   "name": "R",
   "pygments_lexer": "r",
   "version": "3.5.1"
  }
 },
 "nbformat": 4,
 "nbformat_minor": 2
}
